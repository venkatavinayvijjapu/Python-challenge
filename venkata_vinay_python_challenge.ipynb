{
 "cells": [
  {
   "cell_type": "markdown",
   "id": "32ae36e0-c70b-491e-ab43-6cf01a264e8a",
   "metadata": {},
   "source": [
    "# Install Neccessary Modules"
   ]
  },
  {
   "cell_type": "code",
   "execution_count": 11,
   "id": "99ce9503-1685-4eee-bea1-2f470e2400a2",
   "metadata": {},
   "outputs": [
    {
     "name": "stdout",
     "output_type": "stream",
     "text": [
      "Note: you may need to restart the kernel to use updated packages.\n",
      "Note: you may need to restart the kernel to use updated packages.\n",
      "Defaulting to user installation because normal site-packages is not writeable\n",
      "Requirement already satisfied: sentence-transformers in c:\\users\\abc\\appdata\\local\\packages\\pythonsoftwarefoundation.python.3.12_qbz5n2kfra8p0\\localcache\\local-packages\\python312\\site-packages (3.0.1)\n",
      "Requirement already satisfied: transformers<5.0.0,>=4.34.0 in c:\\users\\abc\\appdata\\local\\packages\\pythonsoftwarefoundation.python.3.12_qbz5n2kfra8p0\\localcache\\local-packages\\python312\\site-packages (from sentence-transformers) (4.42.3)\n",
      "Requirement already satisfied: tqdm in c:\\users\\abc\\appdata\\local\\packages\\pythonsoftwarefoundation.python.3.12_qbz5n2kfra8p0\\localcache\\local-packages\\python312\\site-packages (from sentence-transformers) (4.66.4)\n",
      "Requirement already satisfied: torch>=1.11.0 in c:\\users\\abc\\appdata\\local\\packages\\pythonsoftwarefoundation.python.3.12_qbz5n2kfra8p0\\localcache\\local-packages\\python312\\site-packages (from sentence-transformers) (2.3.1)\n",
      "Requirement already satisfied: numpy in c:\\users\\abc\\appdata\\local\\packages\\pythonsoftwarefoundation.python.3.12_qbz5n2kfra8p0\\localcache\\local-packages\\python312\\site-packages (from sentence-transformers) (1.26.4)\n",
      "Requirement already satisfied: scikit-learn in c:\\users\\abc\\appdata\\local\\packages\\pythonsoftwarefoundation.python.3.12_qbz5n2kfra8p0\\localcache\\local-packages\\python312\\site-packages (from sentence-transformers) (1.5.0)\n",
      "Requirement already satisfied: scipy in c:\\users\\abc\\appdata\\local\\packages\\pythonsoftwarefoundation.python.3.12_qbz5n2kfra8p0\\localcache\\local-packages\\python312\\site-packages (from sentence-transformers) (1.14.0)\n",
      "Requirement already satisfied: huggingface-hub>=0.15.1 in c:\\users\\abc\\appdata\\local\\packages\\pythonsoftwarefoundation.python.3.12_qbz5n2kfra8p0\\localcache\\local-packages\\python312\\site-packages (from sentence-transformers) (0.23.4)\n",
      "Requirement already satisfied: Pillow in c:\\users\\abc\\appdata\\local\\packages\\pythonsoftwarefoundation.python.3.12_qbz5n2kfra8p0\\localcache\\local-packages\\python312\\site-packages (from sentence-transformers) (10.4.0)\n",
      "Requirement already satisfied: filelock in c:\\users\\abc\\appdata\\local\\packages\\pythonsoftwarefoundation.python.3.12_qbz5n2kfra8p0\\localcache\\local-packages\\python312\\site-packages (from huggingface-hub>=0.15.1->sentence-transformers) (3.15.4)\n",
      "Requirement already satisfied: fsspec>=2023.5.0 in c:\\users\\abc\\appdata\\local\\packages\\pythonsoftwarefoundation.python.3.12_qbz5n2kfra8p0\\localcache\\local-packages\\python312\\site-packages (from huggingface-hub>=0.15.1->sentence-transformers) (2024.5.0)\n",
      "Requirement already satisfied: packaging>=20.9 in c:\\users\\abc\\appdata\\local\\packages\\pythonsoftwarefoundation.python.3.12_qbz5n2kfra8p0\\localcache\\local-packages\\python312\\site-packages (from huggingface-hub>=0.15.1->sentence-transformers) (24.1)\n",
      "Requirement already satisfied: pyyaml>=5.1 in c:\\users\\abc\\appdata\\local\\packages\\pythonsoftwarefoundation.python.3.12_qbz5n2kfra8p0\\localcache\\local-packages\\python312\\site-packages (from huggingface-hub>=0.15.1->sentence-transformers) (6.0.1)\n",
      "Requirement already satisfied: requests in c:\\users\\abc\\appdata\\local\\packages\\pythonsoftwarefoundation.python.3.12_qbz5n2kfra8p0\\localcache\\local-packages\\python312\\site-packages (from huggingface-hub>=0.15.1->sentence-transformers) (2.32.3)\n",
      "Requirement already satisfied: typing-extensions>=3.7.4.3 in c:\\users\\abc\\appdata\\local\\packages\\pythonsoftwarefoundation.python.3.12_qbz5n2kfra8p0\\localcache\\local-packages\\python312\\site-packages (from huggingface-hub>=0.15.1->sentence-transformers) (4.12.2)\n",
      "Requirement already satisfied: sympy in c:\\users\\abc\\appdata\\local\\packages\\pythonsoftwarefoundation.python.3.12_qbz5n2kfra8p0\\localcache\\local-packages\\python312\\site-packages (from torch>=1.11.0->sentence-transformers) (1.12.1)\n",
      "Requirement already satisfied: networkx in c:\\users\\abc\\appdata\\local\\packages\\pythonsoftwarefoundation.python.3.12_qbz5n2kfra8p0\\localcache\\local-packages\\python312\\site-packages (from torch>=1.11.0->sentence-transformers) (3.3)\n",
      "Requirement already satisfied: jinja2 in c:\\users\\abc\\appdata\\local\\packages\\pythonsoftwarefoundation.python.3.12_qbz5n2kfra8p0\\localcache\\local-packages\\python312\\site-packages (from torch>=1.11.0->sentence-transformers) (3.1.4)\n",
      "Requirement already satisfied: mkl<=2021.4.0,>=2021.1.1 in c:\\users\\abc\\appdata\\local\\packages\\pythonsoftwarefoundation.python.3.12_qbz5n2kfra8p0\\localcache\\local-packages\\python312\\site-packages (from torch>=1.11.0->sentence-transformers) (2021.4.0)\n",
      "Requirement already satisfied: colorama in c:\\users\\abc\\appdata\\local\\packages\\pythonsoftwarefoundation.python.3.12_qbz5n2kfra8p0\\localcache\\local-packages\\python312\\site-packages (from tqdm->sentence-transformers) (0.4.6)\n",
      "Requirement already satisfied: regex!=2019.12.17 in c:\\users\\abc\\appdata\\local\\packages\\pythonsoftwarefoundation.python.3.12_qbz5n2kfra8p0\\localcache\\local-packages\\python312\\site-packages (from transformers<5.0.0,>=4.34.0->sentence-transformers) (2024.5.15)\n",
      "Requirement already satisfied: safetensors>=0.4.1 in c:\\users\\abc\\appdata\\local\\packages\\pythonsoftwarefoundation.python.3.12_qbz5n2kfra8p0\\localcache\\local-packages\\python312\\site-packages (from transformers<5.0.0,>=4.34.0->sentence-transformers) (0.4.3)\n",
      "Requirement already satisfied: tokenizers<0.20,>=0.19 in c:\\users\\abc\\appdata\\local\\packages\\pythonsoftwarefoundation.python.3.12_qbz5n2kfra8p0\\localcache\\local-packages\\python312\\site-packages (from transformers<5.0.0,>=4.34.0->sentence-transformers) (0.19.1)\n",
      "Requirement already satisfied: joblib>=1.2.0 in c:\\users\\abc\\appdata\\local\\packages\\pythonsoftwarefoundation.python.3.12_qbz5n2kfra8p0\\localcache\\local-packages\\python312\\site-packages (from scikit-learn->sentence-transformers) (1.4.2)\n",
      "Requirement already satisfied: threadpoolctl>=3.1.0 in c:\\users\\abc\\appdata\\local\\packages\\pythonsoftwarefoundation.python.3.12_qbz5n2kfra8p0\\localcache\\local-packages\\python312\\site-packages (from scikit-learn->sentence-transformers) (3.5.0)\n",
      "Requirement already satisfied: intel-openmp==2021.* in c:\\users\\abc\\appdata\\local\\packages\\pythonsoftwarefoundation.python.3.12_qbz5n2kfra8p0\\localcache\\local-packages\\python312\\site-packages (from mkl<=2021.4.0,>=2021.1.1->torch>=1.11.0->sentence-transformers) (2021.4.0)\n",
      "Requirement already satisfied: tbb==2021.* in c:\\users\\abc\\appdata\\local\\packages\\pythonsoftwarefoundation.python.3.12_qbz5n2kfra8p0\\localcache\\local-packages\\python312\\site-packages (from mkl<=2021.4.0,>=2021.1.1->torch>=1.11.0->sentence-transformers) (2021.13.0)\n",
      "Requirement already satisfied: MarkupSafe>=2.0 in c:\\users\\abc\\appdata\\local\\packages\\pythonsoftwarefoundation.python.3.12_qbz5n2kfra8p0\\localcache\\local-packages\\python312\\site-packages (from jinja2->torch>=1.11.0->sentence-transformers) (2.1.5)\n",
      "Requirement already satisfied: charset-normalizer<4,>=2 in c:\\users\\abc\\appdata\\local\\packages\\pythonsoftwarefoundation.python.3.12_qbz5n2kfra8p0\\localcache\\local-packages\\python312\\site-packages (from requests->huggingface-hub>=0.15.1->sentence-transformers) (3.3.2)\n",
      "Requirement already satisfied: idna<4,>=2.5 in c:\\users\\abc\\appdata\\local\\packages\\pythonsoftwarefoundation.python.3.12_qbz5n2kfra8p0\\localcache\\local-packages\\python312\\site-packages (from requests->huggingface-hub>=0.15.1->sentence-transformers) (3.7)\n",
      "Requirement already satisfied: urllib3<3,>=1.21.1 in c:\\users\\abc\\appdata\\local\\packages\\pythonsoftwarefoundation.python.3.12_qbz5n2kfra8p0\\localcache\\local-packages\\python312\\site-packages (from requests->huggingface-hub>=0.15.1->sentence-transformers) (2.2.2)\n",
      "Requirement already satisfied: certifi>=2017.4.17 in c:\\users\\abc\\appdata\\local\\packages\\pythonsoftwarefoundation.python.3.12_qbz5n2kfra8p0\\localcache\\local-packages\\python312\\site-packages (from requests->huggingface-hub>=0.15.1->sentence-transformers) (2024.6.2)\n",
      "Requirement already satisfied: mpmath<1.4.0,>=1.1.0 in c:\\users\\abc\\appdata\\local\\packages\\pythonsoftwarefoundation.python.3.12_qbz5n2kfra8p0\\localcache\\local-packages\\python312\\site-packages (from sympy->torch>=1.11.0->sentence-transformers) (1.3.0)\n",
      "Note: you may need to restart the kernel to use updated packages.\n"
     ]
    }
   ],
   "source": [
    "%pip install -qU langchain-groq\n",
    "%pip install --upgrade --quiet  \\\n",
    "    langchain-pinecone \\\n",
    "    langchain-openai \\\n",
    "    langchain \\\n",
    "    langchain-community \\\n",
    "    pinecone-notebooks\n",
    "%pip install sentence-transformers"
   ]
  },
  {
   "cell_type": "markdown",
   "id": "bfc8afe5-cfb4-45b2-baee-6b40b0fd4cbf",
   "metadata": {},
   "source": [
    "# Load Neccessary Modules"
   ]
  },
  {
   "cell_type": "code",
   "execution_count": 29,
   "id": "dced2ab4-c02d-4556-b9aa-925da7c5127e",
   "metadata": {},
   "outputs": [],
   "source": [
    "from langchain_core.prompts import ChatPromptTemplate\n",
    "from langchain_groq import ChatGroq\n",
    "from pinecone import Pinecone, ServerlessSpec\n",
    "import time\n",
    "from langchain_community.embeddings import SentenceTransformerEmbeddings\n",
    "from tqdm.autonotebook import tqdm\n",
    "from langchain_pinecone import PineconeVectorStore"
   ]
  },
  {
   "cell_type": "markdown",
   "id": "bd3a6211-e063-4311-a9f4-ae09c666570b",
   "metadata": {},
   "source": [
    "# Load the API keys"
   ]
  },
  {
   "cell_type": "code",
   "execution_count": 13,
   "id": "b220423d-0ea4-49f4-abbf-93a1d3bce9ae",
   "metadata": {},
   "outputs": [],
   "source": [
    "GROQ_API_KEY=\"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\"\n",
    "pinecone_api_key=\"11af13a8-46b7-467d-b143-94718f9c92c8\""
   ]
  },
  {
   "cell_type": "markdown",
   "id": "45421a80-4390-4778-9804-e0ffd814bbed",
   "metadata": {},
   "source": [
    "# Create index in pinecone if it doesn't exist:\n",
    "This is an user defined function used to create index in pinecone if it it not available"
   ]
  },
  {
   "cell_type": "code",
   "execution_count": 26,
   "id": "5322ac8a-109e-46e9-87dc-a16addf7d2f6",
   "metadata": {},
   "outputs": [],
   "source": [
    "def create_index_in_pinecone(index_name='chat-history'):  # change if desired\n",
    "    try:\n",
    "# index_name = \"assignment\"  # change if desired\n",
    "        pc = Pinecone(api_key=\"11af13a8-46b7-467d-b143-94718f9c92c8\")\n",
    "        existing_indexes = [index_info[\"name\"] for index_info in pc.list_indexes()]\n",
    "        \n",
    "        if index_name not in existing_indexes:\n",
    "            pc.create_index(\n",
    "                name=index_name,\n",
    "                dimension=384,\n",
    "                metric=\"cosine\",\n",
    "                spec=ServerlessSpec(cloud=\"aws\", region=\"us-east-1\"),\n",
    "            )\n",
    "            while not pc.describe_index(index_name).status[\"ready\"]:\n",
    "                time.sleep(1)\n",
    "        \n",
    "        index = pc.Index(index_name)\n",
    "        return True\n",
    "    except:\n",
    "        return False"
   ]
  },
  {
   "cell_type": "markdown",
   "id": "eb7f76f7-7c4c-4640-b135-088780c9a364",
   "metadata": {},
   "source": [
    "# Add the converations to Index\n",
    "Add the conversation into the index by add_text"
   ]
  },
  {
   "cell_type": "code",
   "execution_count": 15,
   "id": "b0508ff1-f614-48e8-8dc9-75699cf82399",
   "metadata": {},
   "outputs": [],
   "source": [
    " def add_embeddings_to_pinecone(history, index_name='chat-history'):\n",
    "     model = SentenceTransformerEmbeddings(model_name=\"all-MiniLM-L6-v2\")\n",
    "     vectorstore = PineconeVectorStore(pinecone_api_key=pinecone_api_key,index_name=index_name, embedding=model)\n",
    "     for i in history:\n",
    "         vectorstore.add_texts([i])\n",
    "     return vectorstore"
   ]
  },
  {
   "cell_type": "markdown",
   "id": "c0e2378c-1caa-4aa8-941d-ba0883f2d54c",
   "metadata": {},
   "source": [
    "Dynamic relavent memory selection, this enables to select messages based on the query."
   ]
  },
  {
   "cell_type": "code",
   "execution_count": 40,
   "id": "5708b956-2d49-41a9-a377-4173d1aa3c9a",
   "metadata": {},
   "outputs": [],
   "source": [
    " def retrieve_relevant_history(query, vectorstore, index_name='chat-history'):\n",
    "     relavent_messages=vectorstore.similarity_search(query)\n",
    "     messages_string=''\n",
    "     for i in range(len(relavent_messages)):\n",
    "         messages_string+=(relavent_messages[i].page_content+' ')\n",
    "     return messages_string\n",
    "     "
   ]
  },
  {
   "cell_type": "raw",
   "id": "ec0d72d2-cade-4ffa-a96f-105d665e327b",
   "metadata": {},
   "source": [
    "Prepare a prompt where it is used for query, this prompt basically changes based on this history we retrived."
   ]
  },
  {
   "cell_type": "code",
   "execution_count": 98,
   "id": "a70f81e3-928e-40d2-8401-b30f614eecff",
   "metadata": {},
   "outputs": [],
   "source": [
    "def prepare_prompt(test_prompt, history, index_name='chat-history'):\n",
    "    chat = ChatGroq(\n",
    "    groq_api_key=GROQ_API_KEY,\n",
    "    temperature=0,\n",
    "    model=\"mixtral-8x7b-32768\",\n",
    ")\n",
    "\n",
    "\n",
    "    system = \"You are a Prompt generator, you need to generate me a prompt{text} in the lowest tokens possible. Make sure to generate me this prompt for Question and answering, also mention to generate response in short in the prompt you generate\"\n",
    "    human = \"{text}\"\n",
    "    prompt = ChatPromptTemplate.from_messages([(\"system\", system), (\"human\", human)])\n",
    "    \n",
    "    chain = prompt | chat\n",
    "    test_prompt+=history\n",
    "    final_prompt=chain.invoke({\"text\": test_prompt})\n",
    "    return final_prompt.content"
   ]
  },
  {
   "cell_type": "markdown",
   "id": "1e77b618-e27e-486c-aff9-4f595597d4e6",
   "metadata": {},
   "source": [
    "# Prompt Testing\n",
    "Testing the prompt and evaluate the result."
   ]
  },
  {
   "cell_type": "code",
   "execution_count": 80,
   "id": "069dda10-07c7-4b21-80f3-b8596adb362e",
   "metadata": {},
   "outputs": [],
   "source": [
    "def test_final_prompt(final_prompt,query):\n",
    "    chat = ChatGroq(\n",
    "    groq_api_key=GROQ_API_KEY,\n",
    "    temperature=0,\n",
    "    model=\"mixtral-8x7b-32768\",\n",
    ")\n",
    "\n",
    "\n",
    "    system = final_prompt\n",
    "    human = \"{text}\"\n",
    "    prompt = ChatPromptTemplate.from_messages([(\"system\", system), (\"human\", human)])\n",
    "    \n",
    "    chain = prompt | chat\n",
    "    response=chain.invoke({\"text\": query})\n",
    "    return response.content\n",
    "    "
   ]
  },
  {
   "cell_type": "markdown",
   "id": "2aa8b778-c49f-4bb8-81ce-4d94603e31e6",
   "metadata": {},
   "source": [
    "# Load the history conversation"
   ]
  },
  {
   "cell_type": "code",
   "execution_count": 17,
   "id": "2418d77c-745b-4f1d-bf3f-84944bdd5d2b",
   "metadata": {},
   "outputs": [],
   "source": [
    "# Define the conversation history\n",
    "history = [\n",
    " \"1: User: Hi there! How are you doing today? | Bot: Hello! I'm doing great, thank you! How can I assist you today?\",\n",
    " \"2: User: What's the weather like today in New York? | Bot: Today in New York, it's sunny with a slight chance of rain.\",\n",
    " \"3: User: Great! Do you have any good lunch suggestions? | Bot: Sure! How about trying a new salad recipe?\",\n",
    " \"4: User: That sounds healthy. Any specific recipes? | Bot: You could try a quinoa salad with avocado and chicken.\",\n",
    " \"5: User: Sounds delicious! I'll try it. What about dinner? | Bot: For dinner, you could make grilled salmon with vegetables.\",\n",
    " \"6: User: Thanks for the suggestions! Any dessert ideas? | Bot: How about a simple fruit salad or yogurt with honey?\",\n",
    " \"7: User: Perfect! Now, what are some good exercises? | Bot: You can try a mix of cardio and strength training exercises.\",\n",
    " \"8: User: Any specific recommendations for cardio? | Bot: Running, cycling, and swimming are all excellent cardio exercises.\",\n",
    " \"9: User: I'll start with running. Can you recommend any books? | Bot: 'Atomic Habits' by James Clear is a highly recommended book.\",\n",
    " \"10: User: I'll check it out. What hobbies can I take up? | Bot: You could explore painting, hiking, or learning a new instrument.\",\n",
    " \"11: User: Hiking sounds fun! Any specific trails? | Bot: There are great trails in the Rockies and the Appalachian Mountains.\",\n",
    " \"12: User: I'll plan a trip. What about indoor activities? | Bot: Indoor activities like reading, cooking, or playing board games.\",\n",
    " \"13: User: Nice! Any good board games? | Bot: Settlers of Catan and Ticket to Ride are both excellent choices.\",\n",
    " \"14: User: I'll try them out. Any movie recommendations? | Bot: 'Inception' and 'The Matrix' are must-watch movies.\",\n",
    " \"15: User: I love those movies! Any TV shows? | Bot: 'Breaking Bad' and 'Stranger Things' are very popular.\",\n",
    " \"16: User: Great choices! What about podcasts? | Bot: 'How I Built This' and 'The Daily' are very informative.\",\n",
    " \"17: User: Thanks! What are some good travel destinations? | Bot: Paris, Tokyo, and Bali are amazing travel spots.\",\n",
    " \"18: User: I'll add them to my list. Any packing tips? | Bot: Roll your clothes to save space and use packing cubes.\",\n",
    " \"19: User: That's helpful! What about travel insurance? | Bot: Always get travel insurance for safety and peace of mind.\",\n",
    " \"20: User: Thanks for the tips! Any last advice? | Bot: Just enjoy your journey and make the most out of your experiences.\"\n",
    "]"
   ]
  },
  {
   "cell_type": "code",
   "execution_count": 30,
   "id": "c4aeaeca-930f-4e7e-bb66-9b2e39393962",
   "metadata": {},
   "outputs": [],
   "source": [
    "status=create_index_in_pinecone(index_name='chat-history')\n",
    "if status:\n",
    "    vectorstore=add_embeddings_to_pinecone(history)"
   ]
  },
  {
   "cell_type": "code",
   "execution_count": 31,
   "id": "2976b12e-4549-4b06-8adc-1437a628f823",
   "metadata": {},
   "outputs": [
    {
     "data": {
      "text/plain": [
       "<langchain_pinecone.vectorstores.PineconeVectorStore at 0x20bc9e874a0>"
      ]
     },
     "execution_count": 31,
     "metadata": {},
     "output_type": "execute_result"
    }
   ],
   "source": [
    "vectorstore"
   ]
  },
  {
   "cell_type": "code",
   "execution_count": 82,
   "id": "4f1a4c68-d295-4575-88cd-f5a12aa7516d",
   "metadata": {},
   "outputs": [],
   "source": [
    "query=\"Get me about fitness\""
   ]
  },
  {
   "cell_type": "code",
   "execution_count": 83,
   "id": "f829853a-af41-4069-899a-6df9fb69a6d2",
   "metadata": {},
   "outputs": [],
   "source": [
    "messages=retrieve_relevant_history(query, vectorstore)"
   ]
  },
  {
   "cell_type": "code",
   "execution_count": 99,
   "id": "06ea74b5-7a69-4953-9d89-2afbb6400e26",
   "metadata": {},
   "outputs": [],
   "source": [
    "test_prompt=\"you are my helpful assistant, you need to answer based on the query and history_messages \"\n",
    "prompt=prepare_prompt(test_prompt, messages, index_name='chat-history')\n"
   ]
  },
  {
   "cell_type": "code",
   "execution_count": 100,
   "id": "c081de0c-dc9b-44d9-92fd-97e5c22ac716",
   "metadata": {},
   "outputs": [],
   "source": [
    "prompt=prompt.split('\"')[-2]"
   ]
  },
  {
   "cell_type": "code",
   "execution_count": 101,
   "id": "9eadc6d0-4f3a-479f-8a05-fcc5ac0816b1",
   "metadata": {},
   "outputs": [],
   "source": [
    "response=test_final_prompt(prompt,query)"
   ]
  },
  {
   "cell_type": "code",
   "execution_count": 102,
   "id": "12d8d0f6-7249-42ba-b38d-45f8f6c159cb",
   "metadata": {},
   "outputs": [
    {
     "name": "stdout",
     "output_type": "stream",
     "text": [
      "Test Prompt:\n",
      "\n",
      "\n",
      "you are my helpful assistant, you need to answer based on the query and history_messages \n",
      "\n",
      "\n",
      "\n",
      "Final Prompt:\n",
      "\n",
      "\n",
      "You are my helpful assistant. Generate a response to the user's query about hobbies based on the previous history messages. Keep the response short.\n",
      "\n",
      "Previous messages:\n",
      "7: User: Perfect! Now, what are some good exercises? | Bot: You can try a mix of cardio and strength training exercises.\n",
      "8: User: Any specific recommendations for cardio? | Bot: Running, cycling, and swimming are all excellent cardio exercises.\n",
      "9: User: I'll start with running. Can you recommend any books? | Bot: 'Atomic Habits' by James Clear is a highly recommended book.\n",
      "10: User: I'll check it out.\n",
      "\n",
      "User: What hobbies can I take up?\n",
      "Assistant: You could explore painting, hiking, or learning a new instrument.\n",
      "\n",
      "\n",
      "\n",
      "Response:\n",
      "\n",
      "\n",
      "Based on our previous conversation, it seems you're interested in self-improvement and physical activities. In addition to running and reading, you might consider taking up hobbies like painting for creative expression, hiking for outdoor adventure, or learning a new instrument for mental stimulation and creativity.\n"
     ]
    }
   ],
   "source": [
    "\n",
    "print(\"Test Prompt:\\n\\n\")\n",
    "print(test_prompt)\n",
    "print(\"\\n\\n\")\n",
    "print(\"Final Prompt:\\n\\n\")\n",
    "print(prompt)\n",
    "print(\"\\n\\n\")\n",
    "print(\"Response:\\n\\n\")\n",
    "print(response)"
   ]
  },
  {
   "cell_type": "code",
   "execution_count": null,
   "id": "19c1af90-b71c-4cc8-9ac1-1ebc7c90c80e",
   "metadata": {},
   "outputs": [],
   "source": []
  }
 ],
 "metadata": {
  "kernelspec": {
   "display_name": "Python 3 (ipykernel)",
   "language": "python",
   "name": "python3"
  },
  "language_info": {
   "codemirror_mode": {
    "name": "ipython",
    "version": 3
   },
   "file_extension": ".py",
   "mimetype": "text/x-python",
   "name": "python",
   "nbconvert_exporter": "python",
   "pygments_lexer": "ipython3",
   "version": "3.12.4"
  }
 },
 "nbformat": 4,
 "nbformat_minor": 5
}
